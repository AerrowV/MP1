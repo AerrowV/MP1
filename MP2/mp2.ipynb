{
 "cells": [
  {
   "cell_type": "markdown",
   "id": "0fcae68e",
   "metadata": {},
   "source": [
    "# Mini Project 2: Data Exploration and Visualisation"
   ]
  },
  {
   "cell_type": "code",
   "execution_count": null,
   "id": "5ca5e457",
   "metadata": {},
   "outputs": [],
   "source": [
    "# CELL 0 — Environment\n",
    "import os\n",
    "import math\n",
    "import numpy as np\n",
    "import pandas as pd\n",
    "import matplotlib.pyplot as plt\n",
    "from scipy.stats import shapiro\n",
    "\n",
    "pd.set_option(\"display.max_columns\", 100)\n",
    "pd.set_option(\"display.width\", 120)\n",
    "\n",
    "# Inline plots\n",
    "%matplotlib inline"
   ]
  },
  {
   "cell_type": "markdown",
   "id": "74407f65",
   "metadata": {},
   "source": [
    "## 1. Paths & Basic Config\n",
    "\n",
    "Update these paths to your local files. The rest of the notebook uses these variables.\n"
   ]
  },
  {
   "cell_type": "code",
   "execution_count": null,
   "id": "2ec61932",
   "metadata": {},
   "outputs": [],
   "source": [
    "# CELL 1 — Paths\n",
    "DATA_RED    = r\"C:/Users/busin/Documents/bi_assignments/MP2/winequality-red.xlsx\"\n",
    "DATA_WHITE  = r\"C:/Users/busin/Documents/bi_assignments/MP2/winequality-white.xlsx\"\n",
    "DATA_PUBLIC = r\"C:/Users/busin/Documents/bi_assignments/MP2/WineQT.csv\""
   ]
  },
  {
   "cell_type": "markdown",
   "id": "66c4a26b",
   "metadata": {},
   "source": [
    "## 2. Loader & Cleaner Helpers\n",
    "\n",
    "- `load_wine(path)` loads CSV/Excel. If the first row is the true header (shifted into data), it fixes it.  \n",
    "- `clean(df)` standardises columns, coerces to numeric, drops NAs, deduplicates."
   ]
  },
  {
   "cell_type": "code",
   "execution_count": null,
   "id": "75abf5ae",
   "metadata": {},
   "outputs": [],
   "source": [
    "# CELL 2 — Load & clean helpers\n",
    "def load_wine(path: str) -> pd.DataFrame:\n",
    "    \"\"\"Load CSV or Excel. Fixes 'Unnamed' header rows if needed.\"\"\"\n",
    "    if path.lower().endswith(\".csv\"):\n",
    "        df = pd.read_csv(path)\n",
    "    else:\n",
    "        df = pd.read_excel(path)\n",
    "        if any(str(c).lower().startswith(\"unnamed\") for c in df.columns):\n",
    "            df.columns = df.iloc[0]\n",
    "            df = df.iloc[1:].reset_index(drop=True)\n",
    "    return df\n",
    "\n",
    "def clean(df: pd.DataFrame) -> pd.DataFrame:\n",
    "    \"\"\"Standard clean: names, numeric coercion, dropna, deduplicate.\"\"\"\n",
    "    df = df.copy()\n",
    "    df.columns = [str(c).strip().lower().replace(\" \", \"_\").replace(\"-\", \"_\") for c in df.columns]\n",
    "    if \"id\" in df.columns:\n",
    "        df = df.drop(columns=[\"id\"])\n",
    "    cols = [\n",
    "        \"fixed_acidity\",\"volatile_acidity\",\"citric_acid\",\"residual_sugar\",\"chlorides\",\n",
    "        \"free_sulfur_dioxide\",\"total_sulfur_dioxide\",\"density\",\"ph\",\"sulphates\",\n",
    "        \"alcohol\",\"quality\"\n",
    "    ]\n",
    "    existing = [c for c in cols if c in df.columns]\n",
    "    df = df[existing]\n",
    "    for c in df.columns:\n",
    "        df[c] = pd.to_numeric(df[c], errors=\"coerce\")\n",
    "    df = df.dropna()\n",
    "    df = df.drop_duplicates().reset_index(drop=True)\n",
    "    return df\n"
   ]
  },
  {
   "cell_type": "markdown",
   "id": "0661e9f0",
   "metadata": {},
   "source": [
    "## 3. Load, Clean, Tag, Aggregate (Tasks 1–3)\n",
    "\n",
    "We keep a `type` column to retain identity across sources."
   ]
  },
  {
   "cell_type": "code",
   "execution_count": null,
   "id": "3e83e0a4",
   "metadata": {},
   "outputs": [],
   "source": [
    "# CELL 3 — Load & clean\n",
    "red_df_raw   = load_wine(DATA_RED)\n",
    "white_df_raw = load_wine(DATA_WHITE)\n",
    "pub_df_raw   = load_wine(DATA_PUBLIC)\n",
    "\n",
    "red_df   = clean(red_df_raw)\n",
    "white_df = clean(white_df_raw)\n",
    "wineqt_df= clean(pub_df_raw)\n",
    "\n",
    "red_df[\"type\"]   = \"Red\"\n",
    "white_df[\"type\"] = \"White\"\n",
    "wineqt_df[\"type\"]= \"Public Wine\"\n",
    "\n",
    "all_wine = pd.concat([red_df, white_df, wineqt_df], ignore_index=True)\n",
    "\n",
    "print(\"Shapes:\")\n",
    "print(\"  Red         :\", red_df.shape)\n",
    "print(\"  White       :\", white_df.shape)\n",
    "print(\"  Public Wine :\", wineqt_df.shape)\n",
    "print(\"  ALL         :\", all_wine.shape)"
   ]
  },
  {
   "cell_type": "markdown",
   "id": "6fcb5320",
   "metadata": {},
   "source": [
    "# CELL 4 — Quick peek (top rows)\n",
    "all_wine.head()"
   ]
  },
  {
   "cell_type": "markdown",
   "id": "0fbf3952",
   "metadata": {},
   "source": [
    "# CELL 5 — Info\n",
    "all_wine.info()"
   ]
  },
  {
   "cell_type": "markdown",
   "id": "3b48937b",
   "metadata": {},
   "source": [
    "## 4. Descriptive Statistics (Tasks 5 & 7)\n",
    "Grouped by `type`."
   ]
  },
  {
   "cell_type": "code",
   "execution_count": null,
   "id": "c24c6416",
   "metadata": {},
   "outputs": [],
   "source": [
    "# CELL 6 — Grouped describe\n",
    "desc = all_wine.groupby(\"type\").describe()\n",
    "desc.columns = [\"_\".join(col).strip() for col in desc.columns.values]\n",
    "desc.head()"
   ]
  },
  {
   "cell_type": "code",
   "execution_count": null,
   "id": "ac52854b",
   "metadata": {},
   "outputs": [],
   "source": [
    "# CELL 7 — (Optional) Save descriptive stats\n",
    "# desc.to_excel(\"wine_descriptive_stats.xlsx\", index=True)\n",
    "pass"
   ]
  },
  {
   "cell_type": "markdown",
   "id": "ce3ec943",
   "metadata": {},
   "source": [
    "## 5. Plotting Helpers (Reusable)\n",
    "\n",
    "These helpers make charts consistent and easy to tweak."
   ]
  },
  {
   "cell_type": "code",
   "execution_count": null,
   "id": "128ef2cd",
   "metadata": {},
   "outputs": [],
   "source": [
    "# CELL 8 — Plotting helpers (matplotlib only, 1 chart per call)\n",
    "\n",
    "def plot_hist(df, col, bins=30, title=None, xlabel=None, ylabel=\"Frequency\"):\n",
    "    data = df[col].dropna()\n",
    "    plt.figure(figsize=(7,4))\n",
    "    plt.hist(data, bins=bins)\n",
    "    plt.title(title or f\"Histogram of {col}\")\n",
    "    plt.xlabel(xlabel or col)\n",
    "    plt.ylabel(ylabel)\n",
    "    plt.show()\n",
    "\n",
    "def plot_bar_series(series, title=None, xlabel=None, ylabel=None, rot=0):\n",
    "    ax = series.plot(kind=\"bar\", figsize=(7,4))\n",
    "    ax.set_title(title or \"\")\n",
    "    ax.set_xlabel(xlabel or \"\")\n",
    "    ax.set_ylabel(ylabel or \"\")\n",
    "    plt.xticks(rotation=rot)\n",
    "    plt.show()\n",
    "\n",
    "def plot_crosstab_bar(df, x_col, hue_col, title=None, xlabel=None, ylabel=\"Count\"):\n",
    "    ct = pd.crosstab(df[x_col], df[hue_col]).sort_index()\n",
    "    ax = ct.plot(kind=\"bar\", figsize=(8,5))\n",
    "    ax.set_title(title or f\"{x_col} by {hue_col}\")\n",
    "    ax.set_xlabel(xlabel or x_col)\n",
    "    ax.set_ylabel(ylabel)\n",
    "    plt.show()\n",
    "\n",
    "def plot_heatmap_corr(df_numeric, title=\"Correlation Heatmap\"):\n",
    "    corr = df_numeric.corr()\n",
    "    plt.figure(figsize=(12,8))\n",
    "    im = plt.imshow(corr, aspect=\"auto\")\n",
    "    plt.colorbar(im, fraction=0.046, pad=0.04)\n",
    "    plt.title(title)\n",
    "    plt.xticks(range(len(corr.columns)), corr.columns, rotation=90)\n",
    "    plt.yticks(range(len(corr.index)), corr.index)\n",
    "    for (i,j), val in np.ndenumerate(corr.values):\n",
    "        plt.text(j, i, f\"{val:.2f}\", ha=\"center\", va=\"center\", fontsize=7)\n",
    "    plt.tight_layout()\n",
    "    plt.show()\n",
    "\n",
    "def boxplot_by_quality_and_type(df, y_col, types=(\"Red\",\"White\",\"Public Wine\"), title=None):\n",
    "    \"\"\"One cluster per quality; within cluster one box per type (if data available).\"\"\"\n",
    "    qualities = sorted(df[\"quality\"].dropna().unique())\n",
    "    fig, ax = plt.subplots(figsize=(12,5))\n",
    "    pos = 1\n",
    "    x_positions = []\n",
    "    x_labels    = []\n",
    "    for q in qualities:\n",
    "        subset = df[df[\"quality\"]==q]\n",
    "        group_positions = []\n",
    "        for t in types:\n",
    "            arr = subset[subset[\"type\"]==t][y_col].dropna().values\n",
    "            if len(arr) > 0:\n",
    "                ax.boxplot(arr, positions=[pos], widths=0.6, patch_artist=False)\n",
    "                group_positions.append(pos)\n",
    "                pos += 1\n",
    "        pos += 1  # spacer between quality groups\n",
    "        if group_positions:\n",
    "            x_positions.append(np.mean(group_positions))\n",
    "            x_labels.append(str(q))\n",
    "    ax.set_xticks(x_positions)\n",
    "    ax.set_xticklabels(x_labels)\n",
    "    ax.set_xlabel(\"Quality\")\n",
    "    ax.set_ylabel(y_col)\n",
    "    ax.set_title(title or f\"{y_col} vs Quality by Type\")\n",
    "    ax.grid(axis=\"y\", linestyle=\":\", alpha=0.5)\n",
    "    plt.show()"
   ]
  },
  {
   "cell_type": "markdown",
   "id": "18e0f927",
   "metadata": {},
   "source": [
    "## 6. Target Distribution: `quality` (Tasks 5 & 8a)\n",
    "\n",
    "**What this shows:** Count of samples at each quality score, split by `type`.  \n",
    "Use it to see class balance, popular quality levels, and type differences."
   ]
  },
  {
   "cell_type": "code",
   "execution_count": null,
   "id": "8e138572",
   "metadata": {},
   "outputs": [],
   "source": [
    "# CELL 9 — Quality distribution by type\n",
    "plot_crosstab_bar(all_wine, x_col=\"quality\", hue_col=\"type\",\n",
    "                  title=\"Distribution of Wine Quality Scores by Type\",\n",
    "                  xlabel=\"Quality\")"
   ]
  },
  {
   "cell_type": "markdown",
   "id": "72166f99",
   "metadata": {},
   "source": [
    "## 7. Histograms — Alcohol / Residual Sugar / Volatile Acidity (Task 5)\n",
    "\n",
    "**What this shows:** The univariate distribution (shape, skew, outliers) of key predictors.  \n",
    "Tip: Change `BINS` if you want finer/coarser detail."
   ]
  },
  {
   "cell_type": "code",
   "execution_count": null,
   "id": "0fe036f9",
   "metadata": {},
   "outputs": [],
   "source": [
    "# CELL 10 — Easy bin control\n",
    "BINS = 30"
   ]
  },
  {
   "cell_type": "code",
   "execution_count": null,
   "id": "576d15e0",
   "metadata": {},
   "outputs": [],
   "source": [
    "# CELL 11 — Alcohol\n",
    "plot_hist(all_wine, \"alcohol\", bins=BINS, title=\"Histogram of Alcohol\")"
   ]
  },
  {
   "cell_type": "code",
   "execution_count": null,
   "id": "076838d6",
   "metadata": {},
   "outputs": [],
   "source": [
    "# CELL 12 — Residual Sugar\n",
    "plot_hist(all_wine, \"residual_sugar\", bins=BINS, title=\"Histogram of Residual Sugar\")"
   ]
  },
  {
   "cell_type": "code",
   "execution_count": null,
   "id": "a9cda152",
   "metadata": {},
   "outputs": [],
   "source": [
    "# CELL 13 — Volatile Acidity\n",
    "plot_hist(all_wine, \"volatile_acidity\", bins=BINS, title=\"Histogram of Volatile Acidity\")"
   ]
  },
  {
   "cell_type": "markdown",
   "id": "bf072d54",
   "metadata": {},
   "source": [
    "## 8. Correlations (Task 5)\n",
    "\n",
    "**What this shows:** Pearson correlations between numeric features and `quality`.  \n",
    "Hot/cold colors indicate positive/negative associations; annotations show coefficients."
   ]
  }
 ],
 "metadata": {
  "language_info": {
   "name": "python"
  }
 },
 "nbformat": 4,
 "nbformat_minor": 5
}
